{
  "nbformat": 4,
  "nbformat_minor": 0,
  "metadata": {
    "colab": {
      "name": "Data Process.ipynb",
      "provenance": [],
      "authorship_tag": "ABX9TyOvI2aVnQm61kyCuuSWSV04",
      "include_colab_link": true
    },
    "kernelspec": {
      "name": "python3",
      "display_name": "Python 3"
    }
  },
  "cells": [
    {
      "cell_type": "markdown",
      "metadata": {
        "id": "view-in-github",
        "colab_type": "text"
      },
      "source": [
        "<a href=\"https://colab.research.google.com/github/Jun-629/DS502/blob/master/Project/Data_Process.ipynb\" target=\"_parent\"><img src=\"https://colab.research.google.com/assets/colab-badge.svg\" alt=\"Open In Colab\"/></a>"
      ]
    },
    {
      "cell_type": "code",
      "metadata": {
        "id": "mHk9AI9bfrKZ",
        "colab_type": "code",
        "colab": {}
      },
      "source": [
        "import numpy as np\n",
        "import pandas as pd \n",
        "import matplotlib.pyplot as plt\n",
        "import scipy.stats as stats\n",
        "import sklearn.linear_model as linear_model\n",
        "import seaborn as sns\n",
        "import scipy.stats as st\n",
        "import xgboost as xgb\n",
        "import random as rd\n",
        "import csv\n",
        "from sklearn.model_selection import KFold\n",
        "from sklearn.model_selection import train_test_split\n",
        "from IPython.display import HTML, display\n",
        "from sklearn.manifold import TSNE\n",
        "from sklearn.cluster import KMeans\n",
        "from sklearn.decomposition import PCA\n",
        "from sklearn.preprocessing import StandardScaler\n",
        "# %matplotlib inline\n",
        "#pd.option.display.max_rows = 1000\n",
        "#pd.option.display.max_coloums = 20"
      ],
      "execution_count": 0,
      "outputs": []
    },
    {
      "cell_type": "code",
      "metadata": {
        "id": "l1RyBxASgtr9",
        "colab_type": "code",
        "outputId": "d5c68d8f-d1d3-4064-8cfc-ef53bb4ad762",
        "colab": {
          "base_uri": "https://localhost:8080/",
          "height": 357
        }
      },
      "source": [
        "!git clone https://github.com/Jun-629/DS502.git\n",
        "!ls -R"
      ],
      "execution_count": 3,
      "outputs": [
        {
          "output_type": "stream",
          "text": [
            "Cloning into 'DS502'...\n",
            "remote: Enumerating objects: 33, done.\u001b[K\n",
            "remote: Counting objects: 100% (33/33), done.\u001b[K\n",
            "remote: Compressing objects: 100% (28/28), done.\u001b[K\n",
            "remote: Total 33 (delta 4), reused 0 (delta 0), pack-reused 0\u001b[K\n",
            "Unpacking objects: 100% (33/33), done.\n",
            ".:\n",
            "DS502  sample_data\n",
            "\n",
            "./DS502:\n",
            "LICENSE  Project  README.md\n",
            "\n",
            "./DS502/Project:\n",
            "data_description.txt  Data_Process.ipynb  train.csv\n",
            "Data_process.ipynb    test.csv\n",
            "\n",
            "./sample_data:\n",
            "anscombe.json\t\t      mnist_test.csv\n",
            "california_housing_test.csv   mnist_train_small.csv\n",
            "california_housing_train.csv  README.md\n"
          ],
          "name": "stdout"
        }
      ]
    },
    {
      "cell_type": "code",
      "metadata": {
        "id": "37f46kHziDKs",
        "colab_type": "code",
        "colab": {}
      },
      "source": [
        "data0 = pd.read_csv('./DS502/Project/train.csv')\n",
        "\n",
        "Id = data0['Id']          # Save the 'Id' column before drop it\n",
        "SalePrice = data0.SalePrice    # Save the 'SalePrice' column before drop it\n",
        "data = data0.drop(['Id','SalePrice'], axis = 1)  # the data set with only factors we may need"
      ],
      "execution_count": 0,
      "outputs": []
    },
    {
      "cell_type": "markdown",
      "metadata": {
        "id": "AklrjATvtdMm",
        "colab_type": "text"
      },
      "source": [
        "- Visualize the features in the dataset."
      ]
    },
    {
      "cell_type": "code",
      "metadata": {
        "id": "97Au-CkNocje",
        "colab_type": "code",
        "outputId": "bcc52a34-0371-4cf8-8375-1ea8487fc317",
        "colab": {
          "base_uri": "https://localhost:8080/",
          "height": 54
        }
      },
      "source": [
        "# Finding numeric features\n",
        "\n",
        "numeric_dtypes = ['int64', 'float64']\n",
        "numeric = []\n",
        "for i in data.columns:\n",
        "  if data[i].dtype in numeric_dtypes:\n",
        "    #if i in ['TotalSF', 'Total_Bathrooms','Total_porch_sf','haspool','hasgarage','hasbsmt','hasfireplace']:\n",
        "      #pass\n",
        "    #else:\n",
        "    numeric.append(i)\n",
        "print(numeric)          # The numeric variables with 36 terms"
      ],
      "execution_count": 209,
      "outputs": [
        {
          "output_type": "stream",
          "text": [
            "['MSSubClass', 'LotFrontage', 'LotArea', 'OverallQual', 'OverallCond', 'YearBuilt', 'YearRemodAdd', 'MasVnrArea', 'BsmtFinSF1', 'BsmtFinSF2', 'BsmtUnfSF', 'TotalBsmtSF', '1stFlrSF', '2ndFlrSF', 'LowQualFinSF', 'GrLivArea', 'BsmtFullBath', 'BsmtHalfBath', 'FullBath', 'HalfBath', 'BedroomAbvGr', 'KitchenAbvGr', 'TotRmsAbvGrd', 'Fireplaces', 'GarageYrBlt', 'GarageCars', 'GarageArea', 'WoodDeckSF', 'OpenPorchSF', 'EnclosedPorch', '3SsnPorch', 'ScreenPorch', 'PoolArea', 'MiscVal', 'MoSold', 'YrSold']\n"
          ],
          "name": "stdout"
        }
      ]
    },
    {
      "cell_type": "code",
      "metadata": {
        "id": "JCajcu5-Q6u0",
        "colab_type": "code",
        "colab": {
          "base_uri": "https://localhost:8080/",
          "height": 638
        },
        "outputId": "4cd3fa66-9137-4116-a5c4-055ce8df1f86"
      },
      "source": [
        "data_na = (data.isnull().sum() / len(data)) * 100\n",
        "data_na = data_na.drop(data_na[data_na == 0].index).sort_values(ascending=False)[:30]\n",
        "missing_data = pd.DataFrame({'Missing Ratio' :data_na})\n",
        "missing_data.head(len(missing_data))"
      ],
      "execution_count": 210,
      "outputs": [
        {
          "output_type": "execute_result",
          "data": {
            "text/html": [
              "<div>\n",
              "<style scoped>\n",
              "    .dataframe tbody tr th:only-of-type {\n",
              "        vertical-align: middle;\n",
              "    }\n",
              "\n",
              "    .dataframe tbody tr th {\n",
              "        vertical-align: top;\n",
              "    }\n",
              "\n",
              "    .dataframe thead th {\n",
              "        text-align: right;\n",
              "    }\n",
              "</style>\n",
              "<table border=\"1\" class=\"dataframe\">\n",
              "  <thead>\n",
              "    <tr style=\"text-align: right;\">\n",
              "      <th></th>\n",
              "      <th>Missing Ratio</th>\n",
              "    </tr>\n",
              "  </thead>\n",
              "  <tbody>\n",
              "    <tr>\n",
              "      <th>PoolQC</th>\n",
              "      <td>99.520548</td>\n",
              "    </tr>\n",
              "    <tr>\n",
              "      <th>MiscFeature</th>\n",
              "      <td>96.301370</td>\n",
              "    </tr>\n",
              "    <tr>\n",
              "      <th>Alley</th>\n",
              "      <td>93.767123</td>\n",
              "    </tr>\n",
              "    <tr>\n",
              "      <th>Fence</th>\n",
              "      <td>80.753425</td>\n",
              "    </tr>\n",
              "    <tr>\n",
              "      <th>FireplaceQu</th>\n",
              "      <td>47.260274</td>\n",
              "    </tr>\n",
              "    <tr>\n",
              "      <th>LotFrontage</th>\n",
              "      <td>17.739726</td>\n",
              "    </tr>\n",
              "    <tr>\n",
              "      <th>GarageYrBlt</th>\n",
              "      <td>5.547945</td>\n",
              "    </tr>\n",
              "    <tr>\n",
              "      <th>GarageType</th>\n",
              "      <td>5.547945</td>\n",
              "    </tr>\n",
              "    <tr>\n",
              "      <th>GarageFinish</th>\n",
              "      <td>5.547945</td>\n",
              "    </tr>\n",
              "    <tr>\n",
              "      <th>GarageQual</th>\n",
              "      <td>5.547945</td>\n",
              "    </tr>\n",
              "    <tr>\n",
              "      <th>GarageCond</th>\n",
              "      <td>5.547945</td>\n",
              "    </tr>\n",
              "    <tr>\n",
              "      <th>BsmtFinType2</th>\n",
              "      <td>2.602740</td>\n",
              "    </tr>\n",
              "    <tr>\n",
              "      <th>BsmtExposure</th>\n",
              "      <td>2.602740</td>\n",
              "    </tr>\n",
              "    <tr>\n",
              "      <th>BsmtFinType1</th>\n",
              "      <td>2.534247</td>\n",
              "    </tr>\n",
              "    <tr>\n",
              "      <th>BsmtCond</th>\n",
              "      <td>2.534247</td>\n",
              "    </tr>\n",
              "    <tr>\n",
              "      <th>BsmtQual</th>\n",
              "      <td>2.534247</td>\n",
              "    </tr>\n",
              "    <tr>\n",
              "      <th>MasVnrArea</th>\n",
              "      <td>0.547945</td>\n",
              "    </tr>\n",
              "    <tr>\n",
              "      <th>MasVnrType</th>\n",
              "      <td>0.547945</td>\n",
              "    </tr>\n",
              "    <tr>\n",
              "      <th>Electrical</th>\n",
              "      <td>0.068493</td>\n",
              "    </tr>\n",
              "  </tbody>\n",
              "</table>\n",
              "</div>"
            ],
            "text/plain": [
              "              Missing Ratio\n",
              "PoolQC            99.520548\n",
              "MiscFeature       96.301370\n",
              "Alley             93.767123\n",
              "Fence             80.753425\n",
              "FireplaceQu       47.260274\n",
              "LotFrontage       17.739726\n",
              "GarageYrBlt        5.547945\n",
              "GarageType         5.547945\n",
              "GarageFinish       5.547945\n",
              "GarageQual         5.547945\n",
              "GarageCond         5.547945\n",
              "BsmtFinType2       2.602740\n",
              "BsmtExposure       2.602740\n",
              "BsmtFinType1       2.534247\n",
              "BsmtCond           2.534247\n",
              "BsmtQual           2.534247\n",
              "MasVnrArea         0.547945\n",
              "MasVnrType         0.547945\n",
              "Electrical         0.068493"
            ]
          },
          "metadata": {
            "tags": []
          },
          "execution_count": 210
        }
      ]
    },
    {
      "cell_type": "markdown",
      "metadata": {
        "id": "u1YylSnuoAta",
        "colab_type": "text"
      },
      "source": [
        "- **PoolQC:** Pool quality.\n",
        "\n",
        "The data description shows that 'NA' means \"No Pool\", which makes sense. However, given the huge ratio of missing value ($>99\\%$), the majority of houses have no Pool at all in general. So we choose to drop this variable as well as the variable **PoolArea**, which means the pool area in square feet."
      ]
    },
    {
      "cell_type": "code",
      "metadata": {
        "id": "ejD71vpRtu9K",
        "colab_type": "code",
        "colab": {}
      },
      "source": [
        "PoolArea = data.PoolArea    # Save the 'PoolArea' column before drop it\n",
        "PoolQC = data.PoolQC      \n",
        "data = data.drop(['PoolArea','PoolQC'], axis=1)"
      ],
      "execution_count": 0,
      "outputs": []
    },
    {
      "cell_type": "markdown",
      "metadata": {
        "id": "-ecbHXcNujJd",
        "colab_type": "text"
      },
      "source": [
        "- **MiscFeature:** Miscellaneous feature not covered in other categories.\n",
        "\n",
        "The data description shows that 'NA' means \"None\", which makes sense. And also, this is the categorical variable, we will change \"NA\" into \"None\" so that we will not be confused by this symbol with null data."
      ]
    },
    {
      "cell_type": "code",
      "metadata": {
        "id": "YC0a3IFfuiYh",
        "colab_type": "code",
        "colab": {}
      },
      "source": [
        "data[\"MiscFeature\"] = data[\"MiscFeature\"].fillna(\"None\")"
      ],
      "execution_count": 0,
      "outputs": []
    },
    {
      "cell_type": "markdown",
      "metadata": {
        "id": "bEktvjIDufu6",
        "colab_type": "text"
      },
      "source": [
        "- **Alley:** Type of alley access to property.\n",
        "\n",
        "The data description shows that 'NA' means \"No alley access\", which makes sense. And also, this is the categorical variable, we will change \"NA\" into \"None\" so that we will not be confused by this symbol with null data."
      ]
    },
    {
      "cell_type": "code",
      "metadata": {
        "id": "1oDs9Mmzv06b",
        "colab_type": "code",
        "colab": {}
      },
      "source": [
        "data[\"Alley\"] = data[\"Alley\"].fillna(\"None\")"
      ],
      "execution_count": 0,
      "outputs": []
    },
    {
      "cell_type": "markdown",
      "metadata": {
        "id": "AjSwsu_9ufq0",
        "colab_type": "text"
      },
      "source": [
        "- **Fence:** Fence quality.\n",
        "\n",
        "The data description shows that 'NA' means \"No Fence\", which makes sense. And also, this is the categorical variable, we will change \"NA\" into \"None\" so that we will not be confused by this symbol with null data."
      ]
    },
    {
      "cell_type": "code",
      "metadata": {
        "id": "YGP9jjVcwIDA",
        "colab_type": "code",
        "colab": {}
      },
      "source": [
        "data[\"Fence\"] = data[\"Fence\"].fillna(\"None\")"
      ],
      "execution_count": 0,
      "outputs": []
    },
    {
      "cell_type": "markdown",
      "metadata": {
        "id": "VJCDug7rufpE",
        "colab_type": "text"
      },
      "source": [
        "- **FireplaceQu:** Fireplace quality.\n",
        "\n",
        "The data description shows that 'NA' means \"No Fireplace\", which makes sense. And also, this is the categorical variable, we will change \"NA\" into \"None\" so that we will not be confused by this symbol with null data."
      ]
    },
    {
      "cell_type": "code",
      "metadata": {
        "id": "AIDPuaiMwaKc",
        "colab_type": "code",
        "colab": {}
      },
      "source": [
        "data[\"FireplaceQu\"] = data[\"FireplaceQu\"].fillna(\"None\")"
      ],
      "execution_count": 0,
      "outputs": []
    },
    {
      "cell_type": "markdown",
      "metadata": {
        "id": "PJKCFbFswc3L",
        "colab_type": "text"
      },
      "source": [
        "- **LotFrontage:** Linear feet of street connected to property.\n",
        "\n",
        "This is the numerical variable. Thus \"NA\" shows that these data are missed. Besides, the area of each street connected to the house property most likely have a similar area to other houses in its neighborhood , we decide to fill in the missing data by the median **LotFrontage** of the neighborhood."
      ]
    },
    {
      "cell_type": "code",
      "metadata": {
        "id": "jc3X_eMsxD5l",
        "colab_type": "code",
        "colab": {}
      },
      "source": [
        "data[\"LotFrontage\"] = data.groupby(\"Neighborhood\")[\"LotFrontage\"].transform(lambda x: x.fillna(x.median()))"
      ],
      "execution_count": 0,
      "outputs": []
    },
    {
      "cell_type": "markdown",
      "metadata": {
        "id": "x9mbeSPDwc1V",
        "colab_type": "text"
      },
      "source": [
        "- **GarageType, GarageFinish, GarageQual and GarageCond:** Garage Location, Interior finish of the Garage, Garage Quality and Garage Condition respectively.\n",
        "\n",
        "The data description shows that 'NA' means \"No Garage\", which makes sense. And also, these are the categorical variables, we will change \"NA\" into \"None\" so that we will not be confused by this symbol with null data."
      ]
    },
    {
      "cell_type": "code",
      "metadata": {
        "id": "S8Xvl1AyydoN",
        "colab_type": "code",
        "colab": {}
      },
      "source": [
        "for grg_cate in ('GarageType', 'GarageFinish', 'GarageQual', 'GarageCond'):\n",
        "    data[grg_cate] = data[grg_cate].fillna('None')"
      ],
      "execution_count": 0,
      "outputs": []
    },
    {
      "cell_type": "markdown",
      "metadata": {
        "id": "QPyKaXlcwcy2",
        "colab_type": "text"
      },
      "source": [
        "- **GarageYrBlt, GarageArea and GarageCars:** Year Garage built, Size of Garage and Car Capacity of Garage respectively.\n",
        "\n",
        "These three variables are numerical variables, while combined with other four variables shown before, we can know that here \"NA\" also means that there is no Garage. However, we can not replace \"NA\" with \"None\" due to the attribute of numeric. Here, we decide to fill in these data by 0, which also means that \"No Garage\"."
      ]
    },
    {
      "cell_type": "code",
      "metadata": {
        "id": "R-dUvIvr0Dp4",
        "colab_type": "code",
        "colab": {}
      },
      "source": [
        "for grg_num in ('GarageYrBlt', 'GarageArea', 'GarageCars'):\n",
        "    data[grg_num] = data[grg_num].fillna(0)\n",
        "\n",
        "##### 这里  感觉我们还要在考虑一下， 我搜了原来的train data\n",
        "##### garageArea & Cars 的那两个变量  其实本身就是0\n",
        "##### 但是 GarageYrBuilt 的那个 年份如果变成0的话\n",
        "##### 别的都是19xx, 20xx 那如果这样考虑的话， 那会不会影响太大\n",
        "##### 还是说考虑到这个变量的话，可能他的系数就很小，也没关系嘛？还是什么\n",
        "##### 我在下面看到了year sold，把那个改成了categorical的了，我把这个也改了"
      ],
      "execution_count": 0,
      "outputs": []
    },
    {
      "cell_type": "markdown",
      "metadata": {
        "id": "RsGXMeMlwcwi",
        "colab_type": "text"
      },
      "source": [
        "- **BsmtQual, BsmtCond, BsmtExposure, BsmtFinType1 and BsmtFinType2:** Height of Basement, Condition of Basement, Walkout or Garden Level Walls, Rating of Basement Finished Area 1&2 respectively.\n",
        "\n",
        "For all these categorical basement-related features, the data description shows that \"NA\" means \"No Basement\". We will change \"NA\" into \"None\" so that we will not be confused by this symbol with null data."
      ]
    },
    {
      "cell_type": "code",
      "metadata": {
        "id": "nr18eoSv24ze",
        "colab_type": "code",
        "colab": {}
      },
      "source": [
        "for bsmt in ('BsmtQual', 'BsmtCond', 'BsmtExposure', 'BsmtFinType1', 'BsmtFinType2'):\n",
        "    data[bsmt] = data[bsmt].fillna('None')"
      ],
      "execution_count": 0,
      "outputs": []
    },
    {
      "cell_type": "markdown",
      "metadata": {
        "id": "C_qxAwfJ3qf5",
        "colab_type": "text"
      },
      "source": [
        "- **MasVnrType and MasVnrArea:** Masonry Veneer Type and  Masonry Veneer Area.\n",
        "\n",
        "In the data description, there is no \"NA\" type. Thus, we regard this as \"None\", since the corresponding variable **MasVnrArea** also shows \"NA\". And we will replace the latter variable with 0."
      ]
    },
    {
      "cell_type": "code",
      "metadata": {
        "id": "mE3BvJ6W4mri",
        "colab_type": "code",
        "colab": {}
      },
      "source": [
        "data[\"MasVnrType\"] = data[\"MasVnrType\"].fillna(\"None\")\n",
        "data[\"MasVnrArea\"] = data[\"MasVnrArea\"].fillna(0)"
      ],
      "execution_count": 0,
      "outputs": []
    },
    {
      "cell_type": "markdown",
      "metadata": {
        "id": "MnyeqEGtwcsy",
        "colab_type": "text"
      },
      "source": [
        "- **Electrical:** Electrical System.\n",
        "\n",
        "It has one NA value. Since this feature has mostly 'SBrkr', we can set that for the missing value."
      ]
    },
    {
      "cell_type": "code",
      "metadata": {
        "id": "N6iyNdD85IgY",
        "colab_type": "code",
        "colab": {}
      },
      "source": [
        "data['Electrical'] = data['Electrical'].fillna(data['Electrical'].mode()[0])"
      ],
      "execution_count": 0,
      "outputs": []
    },
    {
      "cell_type": "code",
      "metadata": {
        "id": "RQo4URY95RZU",
        "colab_type": "code",
        "colab": {
          "base_uri": "https://localhost:8080/",
          "height": 49
        },
        "outputId": "a5483acf-6faa-44ab-c031-1c6ffa0813f1"
      },
      "source": [
        "# Check if there still be any missing value\n",
        "\n",
        "data_na = (data.isnull().sum() / len(data)) * 100\n",
        "data_na = data_na.drop(data_na[data_na == 0].index).sort_values(ascending=False)\n",
        "missing_data = pd.DataFrame({'Missing Ratio' :data_na})\n",
        "missing_data.head(10)"
      ],
      "execution_count": 222,
      "outputs": [
        {
          "output_type": "execute_result",
          "data": {
            "text/html": [
              "<div>\n",
              "<style scoped>\n",
              "    .dataframe tbody tr th:only-of-type {\n",
              "        vertical-align: middle;\n",
              "    }\n",
              "\n",
              "    .dataframe tbody tr th {\n",
              "        vertical-align: top;\n",
              "    }\n",
              "\n",
              "    .dataframe thead th {\n",
              "        text-align: right;\n",
              "    }\n",
              "</style>\n",
              "<table border=\"1\" class=\"dataframe\">\n",
              "  <thead>\n",
              "    <tr style=\"text-align: right;\">\n",
              "      <th></th>\n",
              "      <th>Missing Ratio</th>\n",
              "    </tr>\n",
              "  </thead>\n",
              "  <tbody>\n",
              "  </tbody>\n",
              "</table>\n",
              "</div>"
            ],
            "text/plain": [
              "Empty DataFrame\n",
              "Columns: [Missing Ratio]\n",
              "Index: []"
            ]
          },
          "metadata": {
            "tags": []
          },
          "execution_count": 222
        }
      ]
    },
    {
      "cell_type": "markdown",
      "metadata": {
        "id": "qn7OTgVP7x0w",
        "colab_type": "text"
      },
      "source": [
        "- However, after dealing with some missing data, we need to process some numerical variables which actually are the categorical ones, such as **MSSubclass** (Identifies the type of dwelling involved in the sale.), **OverallQual** (the overall material and finish of the house), **OverallCond** (the overall condition of the house), **GarageYrBlt** (Year garage built),  **YrSold** (Year Sold) and **MoSold** (Month Sold)"
      ]
    },
    {
      "cell_type": "code",
      "metadata": {
        "id": "I-jZu3wG-rro",
        "colab_type": "code",
        "colab": {}
      },
      "source": [
        "data['MSSubClass'] = data['MSSubClass'].apply(str)\n",
        "\n",
        "data['OverallCond'] = data['OverallCond'].astype(str)\n",
        "data['OverallQual'] = data['OverallQual'].astype(str)\n",
        "\n",
        "data['GarageYrBlt'] = data['GarageYrBlt'].astype(str)\n",
        "\n",
        "data['YrSold'] = data['YrSold'].astype(str)\n",
        "data['MoSold'] = data['MoSold'].astype(str)"
      ],
      "execution_count": 0,
      "outputs": []
    },
    {
      "cell_type": "markdown",
      "metadata": {
        "id": "rxcGcxs5-sP5",
        "colab_type": "text"
      },
      "source": [
        ""
      ]
    },
    {
      "cell_type": "code",
      "metadata": {
        "id": "0qnachML6zwj",
        "colab_type": "code",
        "colab": {
          "base_uri": "https://localhost:8080/",
          "height": 255
        },
        "outputId": "6fbbca36-0aec-4888-b1fc-67f89a57e97b"
      },
      "source": [
        "# Split the training data set and the test one.\n",
        "\n",
        "train_data, test_data, train_SP, test_SP = train_test_split(data, SalePrice, test_size = 0.3)\n",
        "print(train_data)"
      ],
      "execution_count": 226,
      "outputs": [
        {
          "output_type": "stream",
          "text": [
            "     MSSubClass MSZoning  LotFrontage  ...  YrSold SaleType SaleCondition\n",
            "755         160       FV         34.0  ...    2009       WD        Normal\n",
            "66           20       RL         73.0  ...    2010       WD        Normal\n",
            "1039        180       RM         21.0  ...    2009       WD        Normal\n",
            "43           20       RL         70.0  ...    2008       WD        Normal\n",
            "1024         20       RL         85.0  ...    2008      COD       Abnorml\n",
            "...         ...      ...          ...  ...     ...      ...           ...\n",
            "731          80       RL         73.0  ...    2007       WD        Normal\n",
            "171          20       RL        141.0  ...    2010       WD        Normal\n",
            "1157        120       RL         34.0  ...    2009       WD        Normal\n",
            "416          60       RL         74.0  ...    2006       WD        Normal\n",
            "136          20       RL         73.0  ...    2007       WD        Normal\n",
            "\n",
            "[1022 rows x 77 columns]\n"
          ],
          "name": "stdout"
        }
      ]
    },
    {
      "cell_type": "code",
      "metadata": {
        "id": "i2G1Vspz5z0F",
        "colab_type": "code",
        "colab": {
          "base_uri": "https://localhost:8080/",
          "height": 580
        },
        "outputId": "5be32812-11fb-4f5c-933c-51def7f183d4"
      },
      "source": [
        "corrmat = train_data.corr()\n",
        "plt.subplots(figsize=(12,9))\n",
        "sns.heatmap(corrmat, vmax=0.9, square=True)"
      ],
      "execution_count": 227,
      "outputs": [
        {
          "output_type": "execute_result",
          "data": {
            "text/plain": [
              "<matplotlib.axes._subplots.AxesSubplot at 0x7f7833826a90>"
            ]
          },
          "metadata": {
            "tags": []
          },
          "execution_count": 227
        },
        {
          "output_type": "display_data",
          "data": {
            "image/png": "[encoded data removed]",
            "text/plain": [
              "<Figure size 864x648 with 2 Axes>"
            ]
          },
          "metadata": {
            "tags": [],
            "needs_background": "light"
          }
        }
      ]
    },
    {
      "cell_type": "markdown",
      "metadata": {
        "id": "23kr86p57Gx-",
        "colab_type": "text"
      },
      "source": [
        ""
      ]
    },
    {
      "cell_type": "markdown",
      "metadata": {
        "id": "Lji0AFY5ufnS",
        "colab_type": "text"
      },
      "source": [
        ""
      ]
    },
    {
      "cell_type": "markdown",
      "metadata": {
        "id": "enArglOu5qi9",
        "colab_type": "text"
      },
      "source": [
        ""
      ]
    },
    {
      "cell_type": "code",
      "metadata": {
        "id": "aJP0NMsXNtzy",
        "colab_type": "code",
        "colab": {
          "base_uri": "https://localhost:8080/",
          "height": 255
        },
        "outputId": "ab997427-f10a-4cbb-82f6-ba9ee3142d6a"
      },
      "source": [
        "# Split the data set into training one and test one with the ratio 7:3.\n",
        "# 这个没啥用了  我只是现在这里放着。\n",
        "\n",
        "\n",
        "name = list(data.columns)\n",
        "data_list = data.values.tolist()\n",
        "Id_list = Id.values.tolist()\n",
        "\n",
        "np.random.seed(1)\n",
        "train_Id = np.random.choice(Id, size = round(0.7 * data.shape[0]),replace=False)\n",
        "train_Id.sort()\n",
        "train = []\n",
        "for i in train_Id:\n",
        "  Id_list.remove(i)   ######## cannot make a new list, otherwise it will be NONE\n",
        "                          #### Now Id_list is the Id number of the test data\n",
        "for i in train_Id:\n",
        "  train.append(data_list[i-1])\n",
        "newtrain = pd.DataFrame(train, index = train_Id, columns = name)\n",
        "print(newtrain)"
      ],
      "execution_count": 158,
      "outputs": [
        {
          "output_type": "stream",
          "text": [
            "      MSSubClass MSZoning  LotFrontage  ...  YrSold SaleType SaleCondition\n",
            "1             60       RL         65.0  ...    2008       WD        Normal\n",
            "2             20       RL         80.0  ...    2007       WD        Normal\n",
            "3             60       RL         68.0  ...    2008       WD        Normal\n",
            "4             70       RL         60.0  ...    2006       WD       Abnorml\n",
            "6             50       RL         85.0  ...    2009       WD        Normal\n",
            "...          ...      ...          ...  ...     ...      ...           ...\n",
            "1451          90       RL         60.0  ...    2009       WD        Normal\n",
            "1452          20       RL         78.0  ...    2009      New       Partial\n",
            "1454          20       RL         90.0  ...    2006       WD       Abnorml\n",
            "1455          20       FV         62.0  ...    2009       WD        Normal\n",
            "1458          70       RL         66.0  ...    2010       WD        Normal\n",
            "\n",
            "[1022 rows x 79 columns]\n"
          ],
          "name": "stdout"
        }
      ]
    }
  ]
}