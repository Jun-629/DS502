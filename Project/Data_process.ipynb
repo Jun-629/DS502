{
  "nbformat": 4,
  "nbformat_minor": 0,
  "metadata": {
    "colab": {
      "name": "Hw10.ipynb",
      "provenance": [],
      "authorship_tag": "ABX9TyMiMU0rQpS4hBBxwZs8mgMI",
      "include_colab_link": true
    },
    "kernelspec": {
      "name": "python3",
      "display_name": "Python 3"
    }
  },
  "cells": [
    {
      "cell_type": "markdown",
      "metadata": {
        "id": "view-in-github",
        "colab_type": "text"
      },
      "source": [
        "<a href=\"https://colab.research.google.com/github/Jun-629/20MA573/blob/master/src/Hw10_SA.ipynb\" target=\"_parent\"><img src=\"https://colab.research.google.com/assets/colab-badge.svg\" alt=\"Open In Colab\"/></a>"
      ]
    },
    {
      "cell_type": "markdown",
      "metadata": {
        "id": "MW8Vv9RDfvi4",
        "colab_type": "text"
      },
      "source": [
        "Let $D = \\{ X_i:i \\in \\mathbb N \\}$ be a data set of i.i.d. sequence from a random generator of distribution $\\mathcal{N}(b, \\sigma ^2)$ for some unknown parameters $b$ and $\\sigma$. Our goal is to estimate $b$ using so called stochastic approximation ($\\mathrm{SA}$) with a given learning rate $\\alpha \\in (0,1)$.\n",
        "\n",
        "1. Write pseudocode for $\\mathrm{SA}$.\n",
        "\n",
        "The pseudocode for $\\mathrm{SA}$ is shown as follows:\n",
        "\n",
        "[pseudocode](https://github.com/Jun-629/20MA573/blob/master/src/Hw10_pseudocode.pdf)"
      ]
    },
    {
      "cell_type": "markdown",
      "metadata": {
        "id": "8L81njKxprTG",
        "colab_type": "text"
      },
      "source": [
        "2. Generate a data set $D = \\{ x_i:1 \\leq i \\leq 10000 \\}$ with $\\mathcal{N}(1,4)$."
      ]
    },
    {
      "cell_type": "code",
      "metadata": {
        "id": "xBSBNtrSsA-T",
        "colab_type": "code",
        "colab": {}
      },
      "source": [
        "import numpy as np\n",
        "import matplotlib.pyplot as plt\n",
        "\n",
        "sampleNo = 10000\n",
        "mu = 1\n",
        "sigma = 4\n",
        "#np.random.seed(0)\n",
        "D = np.random.normal(mu, sigma, sampleNo)\n",
        "#plt.plot(range(sampleNo), D)"
      ],
      "execution_count": 0,
      "outputs": []
    },
    {
      "cell_type": "markdown",
      "metadata": {
        "id": "Bbu4Ae94soXt",
        "colab_type": "text"
      },
      "source": [
        "3. Write a code to implement $\\mathrm {SA}$ on $D$, and demonstrate $b_n \\to b$ as $n \\to \\infty$."
      ]
    },
    {
      "cell_type": "code",
      "metadata": {
        "id": "_3xco57MsngP",
        "colab_type": "code",
        "colab": {
          "base_uri": "https://localhost:8080/",
          "height": 34
        },
        "outputId": "a99f2073-067c-4fa0-9950-95ed35ceaf6d"
      },
      "source": [
        "def SA(b0,alpha,N=10000):                       # N is the number of the sequence of random variable Xi\n",
        "  b = [b0]\n",
        "  for k in range(N):\n",
        "    b_k = b[k] + alpha * (D[k] - b[k])\n",
        "    b.append(b_k)\n",
        "  return b[N-1]\n",
        "SA(2,0.01)"
      ],
      "execution_count": 27,
      "outputs": [
        {
          "output_type": "execute_result",
          "data": {
            "text/plain": [
              "1.0483728903289875"
            ]
          },
          "metadata": {
            "tags": []
          },
          "execution_count": 27
        }
      ]
    },
    {
      "cell_type": "markdown",
      "metadata": {
        "id": "VsRNaX1YwHp3",
        "colab_type": "text"
      },
      "source": [
        "4. Prove that $\\lim_n \\mathbb E b_n = b$.\n",
        "\n",
        "__Pf:__\n",
        "\n",
        "Due to the fact in the lecture, we know that\n",
        "$$\\mu_k = \\frac{1}{k} \\sum_{i=1}^k x_i$$\n",
        "is equivalent to\n",
        "$$\\mu_k = \\mu_{k-1} + \\frac{1}{k}(x_k - \\mu_{k-1}).$$\n",
        "Here, we already have that\n",
        "$$b_{k+1} = b_k + \\alpha(x_k - \\mu_k), k \\in [0,9999], k \\in \\mathbb N,$$\n",
        "Thus, we deduce that\n",
        "$$b_n = \\frac{1}{n} \\sum_{i=1}^n x_i, x_i \\sim \\mathcal{N}(b,\\sigma^2).$$\n",
        "Therefore, by LCT, we have\n",
        "$$\\lim_n \\mathbb E b_n = \\lim_n \\mathbb E [\\frac{1}{n} \\sum_{i=1}^n x_i] = \\lim_n \\frac{1}{n}  \\mathbb E [\\sum_{i=1}^n x_i] = b.$$\n"
      ]
    },
    {
      "cell_type": "markdown",
      "metadata": {
        "id": "VBUakYGT0Iin",
        "colab_type": "text"
      },
      "source": [
        "5. Can you prove or disprove that $b_n \\to b$ in $L^2$?\n",
        "\n",
        "__Pf:__\n",
        "\n",
        "If $b_n \\to b$ in $L^2$, then we need to show that\n",
        "$$\\lim_n \\mathbb E[|b_n - b|^2] = 0$$\n",
        "\n",
        "\\begin{equation}\n",
        "\\begin{aligned}\n",
        "L.H.S &= \\lim_n \\mathbb E [b_n^2 - 2\\cdot b\\cdot b_n + b^2] \\\\\n",
        "&= \\lim_n \\left( \\mathbb E [ (\\frac{1}{n} \\sum_{i=1}^n x_i)^2 ] - 2b \\mathbb E [b_n]\\right) + b^2 \\\\\n",
        "&= \\lim_n \\frac{1}{n^2} \\left( \\sum_{i=1}^n \\mathbb E [x_i^2] + \\sum_{i \\neq j} \\mathbb E [x_i] \\cdot \\mathbb E[x_j] \\right) - b^2 \\\\\n",
        "&= \\lim_n \\frac{1}{n^2} \\left[ n(b^2 + \\sigma^2) + (n^2 - n) b^2 \\right] - b^2 \\\\\n",
        "&= \\lim_n \\frac{\\sigma^2}{n} = 0.\\\\\n",
        "\\end{aligned}\n",
        "\\end{equation}\n",
        "\n",
        "Therefore, $b_n \\to b$ in $L^2$."
      ]
    }
  ]
}
